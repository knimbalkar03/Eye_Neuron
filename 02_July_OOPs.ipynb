{
 "cells": [
  {
   "cell_type": "raw",
   "id": "df1c0005",
   "metadata": {},
   "source": [
    "1. Explain what inheritance is in object-oriented programming and why it is used.\n",
    "\n",
    "Inheritance is a fundamental concept in object-oriented programming (OOP) where a new class (derived class or subclass) is created from an existing class (base class or superclass). The derived class inherits attributes and methods from the base class, allowing for code reuse and the creation of hierarchical relationships between classes.\n",
    "\n",
    "Why Inheritance is Used:\n",
    "Code Reusability: Inheritance allows subclasses to inherit attributes and methods from a base class, reducing code duplication and promoting code reuse.\n",
    "Modularity and Maintainability: By organizing classes in a hierarchical manner, inheritance facilitates modular and maintainable code. Changes made to the base class automatically propagate to all subclasses.\n",
    "Polymorphism: Inheritance enables polymorphic behavior, where objects of different classes can be treated interchangeably if they share a common base class. This promotes flexibility and extensibility in software design.\n",
    "Specialization and Generalization: Subclasses can specialize or extend the functionality of the base class by adding new attributes or methods, while inheriting existing ones. This allows for more granular and specific class definitions."
   ]
  },
  {
   "cell_type": "raw",
   "id": "a2e58823",
   "metadata": {},
   "source": [
    "2. Discuss the concept of single inheritance and multiple inheritance, highlighting their\n",
    "differences and advantages.\n",
    "\n",
    "Single Inheritance:\n",
    "Definition: Single inheritance is a type of inheritance where a derived class inherits from only one base class.\n",
    "Advantages:\n",
    "Simplicity: Single inheritance results in a simpler class hierarchy, making code easier to understand and maintain.\n",
    "Less Ambiguity: In single inheritance, there's no confusion about which superclass method to inherit in case of method overriding.\n",
    "        \n",
    "Multiple Inheritance:\n",
    "Definition: Multiple inheritance is a type of inheritance where a derived class inherits from multiple base classes.\n",
    "Advantages:\n",
    "Enhanced Functionality: Multiple inheritance allows a class to inherit attributes and methods from multiple sources, providing more flexibility and functionality.\n",
    "Code Reusability: It promotes code reuse by allowing a class to inherit behavior from different parent classes.\n"
   ]
  },
  {
   "cell_type": "code",
   "execution_count": 3,
   "id": "d49c0ada",
   "metadata": {},
   "outputs": [],
   "source": [
    "#Example of Single Inheritance\n",
    "\n",
    "class Animal:\n",
    "    def sound(self):\n",
    "        print(\"Makes sound\")\n",
    "\n",
    "class Dog(Animal):  \n",
    "    def bark(self):\n",
    "        print(\"Barks\")\n",
    "        \n",
    "#Example of Multiple Inheritance\n",
    "\n",
    "class A:\n",
    "    def method_A(self):\n",
    "        print(\"Method A\")\n",
    "\n",
    "class B:\n",
    "    def method_B(self):\n",
    "        print(\"Method B\")\n",
    "\n",
    "class C(A, B):  # Multiple inheritance\n",
    "    def method_C(self):\n",
    "        print(\"Method C\")"
   ]
  },
  {
   "cell_type": "raw",
   "id": "f9e451ec",
   "metadata": {},
   "source": [
    "3. Explain the terms \"base class\" and \"derived class\" in the context of inheritance.\n",
    "\n",
    "Base Class: Also known as a superclass or parent class, a base class is the class from which other classes (derived classes) inherit attributes and methods. It serves as the template or blueprint for creating derived classes.\n",
    "\n",
    "Derived Class: Also known as a subclass or child class, a derived class is a class that inherits attributes and methods from a base class. It extends or specializes the functionality of the base class by adding new attributes or methods or by overriding existing ones.\n"
   ]
  },
  {
   "cell_type": "raw",
   "id": "910fa613",
   "metadata": {},
   "source": [
    "4. What is the significance of the \"protected\" access modifier in inheritance? How does\n",
    "it differ from \"private\" and \"public\" modifiers?\n",
    "\n",
    "Significance: The protected access modifier in Python is indicated by prefixing attributes or methods with a single underscore _. It allows attributes and methods to be accessed within the class itself and by its subclasses but not from outside the class hierarchy.\n",
    "Difference from Private and Public Modifiers:\n",
    "Private (__): Private attributes and methods are accessible only within the class that defines them. They cannot be accessed by subclasses.\n",
    "Protected (_): Protected attributes and methods can be accessed within the class that defines them and by its subclasses. However, they are not intended to be accessed directly from outside the class hierarchy.\n",
    "Public: Public attributes and methods are accessible from anywhere, both within and outside the class hierarchy.\n"
   ]
  },
  {
   "cell_type": "raw",
   "id": "fc9a9d8f",
   "metadata": {},
   "source": [
    "5. What is the purpose of the \"super\" keyword in inheritance? Provide an example.\n",
    "\n",
    "The super keyword in Python is used to call methods and constructors from the superclass (base class) within the subclass (derived class). It allows access to methods and constructors defined in the superclass, facilitating code reuse and ensuring proper initialization of inherited attributes.\n"
   ]
  },
  {
   "cell_type": "code",
   "execution_count": 4,
   "id": "d9ab08fb",
   "metadata": {},
   "outputs": [],
   "source": [
    "#Example:\n",
    "class Parent:\n",
    "    def __init__(self):\n",
    "        self.parent_attr = \"Parent attribute\"\n",
    "\n",
    "class Child(Parent):\n",
    "    def __init__(self):\n",
    "        super().__init__()  # Calling superclass constructor\n",
    "        self.child_attr = \"Child attribute\"\n"
   ]
  },
  {
   "cell_type": "raw",
   "id": "6c2bd19c",
   "metadata": {},
   "source": [
    "6. Create a base class called \"Vehicle\" with attributes like \"make\", \"model\", and \"year\".Then, create a derived class called \"Car\" that inherits from\n",
    "\"Vehicle\" and adds an attribute called \"fuel_type\". Implement appropriate methods in both classes.\n"
   ]
  },
  {
   "cell_type": "code",
   "execution_count": 10,
   "id": "6ea34dc2",
   "metadata": {},
   "outputs": [
    {
     "name": "stdout",
     "output_type": "stream",
     "text": [
      "Toyota\n",
      "Camry\n",
      "2022\n",
      "Petrol\n"
     ]
    }
   ],
   "source": [
    "class Vehicle:\n",
    "    def __init__(self, make, model, year):\n",
    "        self.make = make\n",
    "        self.model = model\n",
    "        self.year = year\n",
    "\n",
    "class Car(Vehicle):\n",
    "    def __init__(self, make, model, year, fuel_type):\n",
    "        super().__init__(make, model, year)\n",
    "        self.fuel_type = fuel_type\n",
    "\n",
    "car = Car(\"Toyota\", \"Camry\", 2022, \"Petrol\")\n",
    "print(car.make)        \n",
    "print(car.model)       \n",
    "print(car.year)        \n",
    "print(car.fuel_type)         \n"
   ]
  },
  {
   "cell_type": "raw",
   "id": "86522f85",
   "metadata": {},
   "source": [
    "7. Create a base class called \"Employee\" with attributes like \"name\" and \"salary.\"Derive two classes, \"Manager\" and \"Developer,\" from \"Employee.\" Add an additional attribute called \"department\" for the \"Manager\" class and \"programming_language\" for the \"Developer\" class."
   ]
  },
  {
   "cell_type": "code",
   "execution_count": 12,
   "id": "6abbda17",
   "metadata": {},
   "outputs": [
    {
     "name": "stdout",
     "output_type": "stream",
     "text": [
      "John Doe\n",
      "60000\n",
      "HR\n",
      "Jane Smith\n",
      "70000\n",
      "Python\n"
     ]
    }
   ],
   "source": [
    "class Employee:\n",
    "    def __init__(self, name, salary):\n",
    "        self.name = name\n",
    "        self.salary = salary\n",
    "\n",
    "class Manager(Employee):\n",
    "    def __init__(self, name, salary, department):\n",
    "        super().__init__(name, salary)\n",
    "        self.department = department\n",
    "\n",
    "class Developer(Employee):\n",
    "    def __init__(self, name, salary, programming_language):\n",
    "        super().__init__(name, salary)\n",
    "        self.programming_language = programming_language\n",
    "\n",
    "manager = Manager(\"John Doe\", 60000, \"HR\")\n",
    "print(manager.name)        \n",
    "print(manager.salary)      \n",
    "print(manager.department)\n",
    "\n",
    "developer = Developer(\"Jane Smith\", 70000, \"Python\")\n",
    "print(developer.name)               \n",
    "print(developer.salary)               \n",
    "print(developer.programming_language)"
   ]
  },
  {
   "cell_type": "raw",
   "id": "cde06a4a",
   "metadata": {},
   "source": [
    "8. Design a base class called \"Shape\" with attributes like \"colour\" and \"border_width.\"Create derived classes, \"Rectangle\" and \"Circle,\" that inherit\n",
    "from \"Shape\" and add specific attributes like \"length\" and \"width\" for the \"Rectangle\" class and \"radius\" for the \"Circle\" class."
   ]
  },
  {
   "cell_type": "code",
   "execution_count": 13,
   "id": "432cc260",
   "metadata": {},
   "outputs": [
    {
     "name": "stdout",
     "output_type": "stream",
     "text": [
      "Red\n",
      "2\n",
      "10\n",
      "5\n",
      "Blue\n",
      "1\n",
      "7\n"
     ]
    }
   ],
   "source": [
    "class Shape:\n",
    "    def __init__(self, colour, border_width):\n",
    "        self.colour = colour\n",
    "        self.border_width = border_width\n",
    "\n",
    "class Rectangle(Shape):\n",
    "    def __init__(self, colour, border_width, length, width):\n",
    "        super().__init__(colour, border_width)\n",
    "        self.length = length\n",
    "        self.width = width\n",
    "\n",
    "class Circle(Shape):\n",
    "    def __init__(self, colour, border_width, radius):\n",
    "        super().__init__(colour, border_width)\n",
    "        self.radius = radius\n",
    "\n",
    "rectangle = Rectangle(\"Red\", 2, 10, 5)\n",
    "print(rectangle.colour)      \n",
    "print(rectangle.border_width)  \n",
    "print(rectangle.length)       \n",
    "print(rectangle.width)        \n",
    "\n",
    "circle = Circle(\"Blue\", 1, 7)\n",
    "print(circle.colour)          \n",
    "print(circle.border_width)    \n",
    "print(circle.radius)  "
   ]
  },
  {
   "cell_type": "raw",
   "id": "7b00ebf4",
   "metadata": {},
   "source": [
    "9. Create a base class called \"Device\" with attributes like \"brand\" and \"model.\" Derive two classes, \"Phone\" and \"Tablet,\" from \"Device.\" Add specific attributes like \"screen_size\" for the \"Phone\" class and \"battery_capacity\" for the \"Tablet\" class."
   ]
  },
  {
   "cell_type": "code",
   "execution_count": 14,
   "id": "5e02f953",
   "metadata": {},
   "outputs": [
    {
     "name": "stdout",
     "output_type": "stream",
     "text": [
      "Samsung\n",
      "Galaxy S20\n",
      "6 inches\n",
      "Apple\n",
      "iPad Pro\n",
      "10000 mAh\n"
     ]
    }
   ],
   "source": [
    "class Device:\n",
    "    def __init__(self, brand, model):\n",
    "        self.brand = brand\n",
    "        self.model = model\n",
    "\n",
    "class Phone(Device):\n",
    "    def __init__(self, brand, model, screen_size):\n",
    "        super().__init__(brand, model)\n",
    "        self.screen_size = screen_size\n",
    "\n",
    "class Tablet(Device):\n",
    "    def __init__(self, brand, model, battery_capacity):\n",
    "        super().__init__(brand, model)\n",
    "        self.battery_capacity = battery_capacity\n",
    "\n",
    "phone = Phone(\"Samsung\", \"Galaxy S20\", \"6 inches\")\n",
    "print(phone.brand)         \n",
    "print(phone.model)         \n",
    "print(phone.screen_size)   \n",
    "\n",
    "tablet = Tablet(\"Apple\", \"iPad Pro\", \"10000 mAh\")\n",
    "print(tablet.brand)            \n",
    "print(tablet.model)            \n",
    "print(tablet.battery_capacity) "
   ]
  },
  {
   "cell_type": "raw",
   "id": "f45acaa9",
   "metadata": {},
   "source": [
    "10. Create a base class called \"BankAccount\" with attributes like \"account_number\" and \"balance.\" Derive two classes,\n",
    "\"SavingsAccount\" and \"CheckingAccount,\" from \"BankAccount.\" Add specific methods like \"calculate_interest\" for the\n",
    "\"SavingsAccount\" class and \"deduct_fees\" for the \"CheckingAccount\" class."
   ]
  },
  {
   "cell_type": "code",
   "execution_count": 15,
   "id": "863033c8",
   "metadata": {},
   "outputs": [
    {
     "name": "stdout",
     "output_type": "stream",
     "text": [
      "12345\n",
      "5000\n",
      "250.0\n",
      "54321\n",
      "2000\n",
      "1950\n"
     ]
    }
   ],
   "source": [
    "class BankAccount:\n",
    "    def __init__(self, account_number, balance):\n",
    "        self.account_number = account_number\n",
    "        self.balance = balance\n",
    "\n",
    "class SavingsAccount(BankAccount):\n",
    "    def calculate_interest(self, rate):\n",
    "        return self.balance * (rate / 100)\n",
    "\n",
    "class CheckingAccount(BankAccount):\n",
    "    def deduct_fees(self, fee):\n",
    "        self.balance -= fee\n",
    "        \n",
    "savings_account = SavingsAccount(\"12345\", 5000)\n",
    "print(savings_account.account_number)  \n",
    "print(savings_account.balance)         \n",
    "print(savings_account.calculate_interest(5)) \n",
    "\n",
    "checking_account = CheckingAccount(\"54321\", 2000)\n",
    "print(checking_account.account_number) \n",
    "print(checking_account.balance)        \n",
    "checking_account.deduct_fees(50)\n",
    "print(checking_account.balance)  "
   ]
  },
  {
   "cell_type": "code",
   "execution_count": null,
   "id": "c4a4148d",
   "metadata": {},
   "outputs": [],
   "source": []
  }
 ],
 "metadata": {
  "kernelspec": {
   "display_name": "Python 3 (ipykernel)",
   "language": "python",
   "name": "python3"
  },
  "language_info": {
   "codemirror_mode": {
    "name": "ipython",
    "version": 3
   },
   "file_extension": ".py",
   "mimetype": "text/x-python",
   "name": "python",
   "nbconvert_exporter": "python",
   "pygments_lexer": "ipython3",
   "version": "3.10.9"
  }
 },
 "nbformat": 4,
 "nbformat_minor": 5
}
